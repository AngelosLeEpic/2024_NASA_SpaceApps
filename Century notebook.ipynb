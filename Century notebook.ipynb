{
 "cells": [
  {
   "cell_type": "code",
   "execution_count": 55,
   "id": "5f018f14",
   "metadata": {},
   "outputs": [
    {
     "ename": "ModuleNotFoundError",
     "evalue": "No module named 'obspy'",
     "output_type": "error",
     "traceback": [
      "\u001b[0;31m---------------------------------------------------------------------------\u001b[0m",
      "\u001b[0;31mModuleNotFoundError\u001b[0m                       Traceback (most recent call last)",
      "Cell \u001b[0;32mIn[55], line 4\u001b[0m\n\u001b[1;32m      2\u001b[0m \u001b[38;5;28;01mimport\u001b[39;00m \u001b[38;5;21;01mnumpy\u001b[39;00m \u001b[38;5;28;01mas\u001b[39;00m \u001b[38;5;21;01mnp\u001b[39;00m\n\u001b[1;32m      3\u001b[0m \u001b[38;5;28;01mimport\u001b[39;00m \u001b[38;5;21;01mpandas\u001b[39;00m \u001b[38;5;28;01mas\u001b[39;00m \u001b[38;5;21;01mpd\u001b[39;00m\n\u001b[0;32m----> 4\u001b[0m \u001b[38;5;28;01mfrom\u001b[39;00m \u001b[38;5;21;01mobspy\u001b[39;00m \u001b[38;5;28;01mimport\u001b[39;00m read\n\u001b[1;32m      5\u001b[0m \u001b[38;5;28;01mfrom\u001b[39;00m \u001b[38;5;21;01mdatetime\u001b[39;00m \u001b[38;5;28;01mimport\u001b[39;00m datetime, timedelta\n\u001b[1;32m      6\u001b[0m \u001b[38;5;28;01mimport\u001b[39;00m \u001b[38;5;21;01mmatplotlib\u001b[39;00m\u001b[38;5;21;01m.\u001b[39;00m\u001b[38;5;21;01mpyplot\u001b[39;00m \u001b[38;5;28;01mas\u001b[39;00m \u001b[38;5;21;01mplt\u001b[39;00m\n",
      "\u001b[0;31mModuleNotFoundError\u001b[0m: No module named 'obspy'"
     ]
    }
   ],
   "source": [
    "# Import libraries\n",
    "import numpy as np\n",
    "import pandas as pd\n",
    "from obspy import read\n",
    "from datetime import datetime, timedelta\n",
    "import matplotlib.pyplot as plt\n",
    "import os"
   ]
  },
  {
   "cell_type": "code",
   "execution_count": 56,
   "id": "b4a42ea8",
   "metadata": {},
   "outputs": [
    {
     "name": "stdout",
     "output_type": "stream",
     "text": [
      "./data/lunar/training/catalogs/apollo12_catalog_GradeA_final.csv\n"
     ]
    }
   ],
   "source": [
    "# data path = where we store the data, plots and catalogue\n",
    "data_path = \"./data/lunar/training/\"\n",
    "raw_data_path = data_path + \"data/S12_GradeA/\"\n",
    "catalogue_path = data_path + \"catalogs/apollo12_catalog_GradeA_final.csv\"\n",
    "print(catalogue_path)"
   ]
  },
  {
   "cell_type": "code",
   "execution_count": 57,
   "id": "96fa7b0f",
   "metadata": {},
   "outputs": [],
   "source": [
    "catalogue = pd.read_csv(catalogue_path)"
   ]
  },
  {
   "cell_type": "code",
   "execution_count": 58,
   "id": "ac1e7eed",
   "metadata": {},
   "outputs": [],
   "source": [
    "filenames = catalogue[\"filename\"].to_list()    "
   ]
  },
  {
   "cell_type": "code",
   "execution_count": 62,
   "id": "bb094053",
   "metadata": {},
   "outputs": [
    {
     "ename": "SyntaxError",
     "evalue": "expected '(' (1755669737.py, line 14)",
     "output_type": "error",
     "traceback": [
      "\u001b[0;36m  Cell \u001b[0;32mIn[62], line 14\u001b[0;36m\u001b[0m\n\u001b[0;31m    def int residualError(real, hat):\u001b[0m\n\u001b[0m            ^\u001b[0m\n\u001b[0;31mSyntaxError\u001b[0m\u001b[0;31m:\u001b[0m expected '('\n"
     ]
    }
   ],
   "source": [
    "for file in filenames:\n",
    "    print(\"Now reading file: \" + raw_data_path + file + \".csv\")\n",
    "    contents = pd.read_csv(raw_data_path + file + \".csv\")\n",
    "    # activity = contents parsed by data trenching, should return the csv file after cutting white noise\n",
    "    activity = contents # placeholder\n",
    "    compressed_activity = contents # placeholder, compressed_activity will be the activity when compressed\n",
    "    \n",
    "    # find residual error\n",
    "    real_data = activity['velocity(m/s)']\n",
    "    compressed_data = compressed_activity['velocity(m/s)']\n",
    "    \n",
    "    print(\"calculated error: \" + residualError(real_data, compressed_data))\n",
    "    \n",
    "    def int residualError(real, hat):\n",
    "        real_array = real.to_numpy()\n",
    "        hat_array = hat.to_numpy()\n",
    "        residual_array = real_array - hat_array\n",
    "    \n",
    "    \n",
    "    "
   ]
  },
  {
   "cell_type": "code",
   "execution_count": 42,
   "id": "9e82a3b6",
   "metadata": {},
   "outputs": [],
   "source": []
  },
  {
   "cell_type": "code",
   "execution_count": 43,
   "id": "a48850df",
   "metadata": {},
   "outputs": [
    {
     "ename": "SyntaxError",
     "evalue": "expected ':' (695086905.py, line 1)",
     "output_type": "error",
     "traceback": [
      "\u001b[0;36m  Cell \u001b[0;32mIn[43], line 1\u001b[0;36m\u001b[0m\n\u001b[0;31m    for file in filenames\u001b[0m\n\u001b[0m                         ^\u001b[0m\n\u001b[0;31mSyntaxError\u001b[0m\u001b[0;31m:\u001b[0m expected ':'\n"
     ]
    }
   ],
   "source": [
    "for file in filenames\n",
    "    "
   ]
  },
  {
   "cell_type": "code",
   "execution_count": null,
   "id": "541722f4",
   "metadata": {},
   "outputs": [],
   "source": []
  },
  {
   "cell_type": "code",
   "execution_count": null,
   "id": "74fed685",
   "metadata": {},
   "outputs": [],
   "source": []
  }
 ],
 "metadata": {
  "kernelspec": {
   "display_name": "Python 3 (ipykernel)",
   "language": "python",
   "name": "python3"
  },
  "language_info": {
   "codemirror_mode": {
    "name": "ipython",
    "version": 3
   },
   "file_extension": ".py",
   "mimetype": "text/x-python",
   "name": "python",
   "nbconvert_exporter": "python",
   "pygments_lexer": "ipython3",
   "version": "3.11.2"
  }
 },
 "nbformat": 4,
 "nbformat_minor": 5
}
