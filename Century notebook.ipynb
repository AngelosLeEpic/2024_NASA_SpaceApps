{
 "cells": [
  {
   "cell_type": "code",
   "execution_count": 26,
   "id": "5f018f14",
   "metadata": {},
   "outputs": [],
   "source": [
    "# Import libraries\n",
    "import numpy as np\n",
    "import pandas as pd\n",
    "# from obspy import read\n",
    "from datetime import datetime, timedelta\n",
    "import matplotlib.pyplot as plt\n",
    "import os as os"
   ]
  },
  {
   "cell_type": "code",
   "execution_count": 27,
   "id": "b4a42ea8",
   "metadata": {},
   "outputs": [
    {
     "name": "stdout",
     "output_type": "stream",
     "text": [
      "./data/lunar/training/catalogs/apollo12_catalog_GradeA_final.csv\n"
     ]
    }
   ],
   "source": [
    "# data path = where we store the data, plots and catalogue\n",
    "data_path = \"./data/lunar/training/\"\n",
    "raw_data_path = data_path + \"data/S12_GradeA/\"\n",
    "catalogue_path = data_path + \"catalogs/apollo12_catalog_GradeA_final.csv\"\n",
    "print(catalogue_path)"
   ]
  },
  {
   "cell_type": "code",
   "execution_count": 28,
   "id": "96fa7b0f",
   "metadata": {},
   "outputs": [],
   "source": [
    "df = pd.read_csv(catalogue_path)"
   ]
  },
  {
   "cell_type": "code",
   "execution_count": 29,
   "id": "308236c8",
   "metadata": {},
   "outputs": [],
   "source": [
    "filenames = df[\"filename\"]"
   ]
  },
  {
   "cell_type": "code",
   "execution_count": 30,
   "id": "ca87cebb-bf53-4f43-8d97-41eeb45b9d37",
   "metadata": {},
   "outputs": [
    {
     "data": {
      "text/plain": [
       "0     xa.s12.00.mhz.1970-01-19HR00_evid00002\n",
       "1     xa.s12.00.mhz.1970-03-25HR00_evid00003\n",
       "2     xa.s12.00.mhz.1970-03-26HR00_evid00004\n",
       "3     xa.s12.00.mhz.1970-04-25HR00_evid00006\n",
       "4     xa.s12.00.mhz.1970-04-26HR00_evid00007\n",
       "                       ...                  \n",
       "71    xa.s12.00.mhz.1974-10-14HR00_evid00156\n",
       "72    xa.s12.00.mhz.1975-04-12HR00_evid00191\n",
       "73    xa.s12.00.mhz.1975-05-04HR00_evid00192\n",
       "74    xa.s12.00.mhz.1975-06-24HR00_evid00196\n",
       "75    xa.s12.00.mhz.1975-06-26HR00_evid00198\n",
       "Name: filename, Length: 76, dtype: object"
      ]
     },
     "execution_count": 30,
     "metadata": {},
     "output_type": "execute_result"
    }
   ],
   "source": [
    "filenames"
   ]
  },
  {
   "cell_type": "code",
   "execution_count": 41,
   "id": "0173709d-1ce6-4353-a88a-456908a0918c",
   "metadata": {},
   "outputs": [
    {
     "data": {
      "image/png": "[encoded data removed]",
      "text/plain": [
       "<Figure size 640x480 with 1 Axes>"
      ]
     },
     "metadata": {},
     "output_type": "display_data"
    },
    {
     "name": "stdout",
     "output_type": "stream",
     "text": [
      "0         0.517027\n",
      "1         0.517027\n",
      "2         0.517027\n",
      "3         0.517027\n",
      "4         0.517027\n",
      "            ...   \n",
      "572422    0.517027\n",
      "572423    0.517027\n",
      "572424    0.517027\n",
      "572425    0.517027\n",
      "572426    0.517027\n",
      "Name: velocity(m/s), Length: 572427, dtype: float64\n"
     ]
    }
   ],
   "source": [
    "dfs = []\n",
    "\n",
    "for i in filenames.to_list():\n",
    "    if os.path.exists(raw_data_path+i+\".csv\"):\n",
    "        # dfs.append(pd.read_csv(raw_data_path + i + \".csv\"))\n",
    "        tmp = pd.read_csv(raw_data_path + \"test\" + \".csv\")\n",
    "        tmp[\"velocity(m/s)\"].plot()\n",
    "        plt.show()\n",
    "        \n",
    "        tmp[\"velocity(m/s)\"] = tmp[\"velocity(m/s)\"].round(13)\n",
    "        output_path = raw_data_path + \"test\" + \"_rounded.csv\"\n",
    "        tmp.to_csv(output_path, index=False)\n",
    "\n",
    "        applyScale(tmp)\n",
    "        \n",
    "        break\n",
    "\n",
    "        "
   ]
  },
  {
   "cell_type": "code",
   "execution_count": 40,
   "id": "549ee032",
   "metadata": {},
   "outputs": [],
   "source": [
    "def applyScale(data):\n",
    "    top = data[\"velocity(m/s)\"].max()\n",
    "    bottom = data[\"velocity(m/s)\"].min()\n",
    "    data[\"velocity(m/s)\"] = data[\"velocity(m/s)\"] - bottom # remove the minimum value from all data points\n",
    "    data[\"velocity(m/s)\"] = data[\"velocity(m/s)\"] / (top - bottom) # divide by the range\n",
    "    \n",
    "    output_path = raw_data_path + \"scaletest\" + \".csv\"\n",
    "    data.to_csv(output_path, index=False)\n",
    "\n",
    "    print(data[\"velocity(m/s)\"])\n",
    "    return 0"
   ]
  },
  {
   "cell_type": "code",
   "execution_count": 25,
   "id": "674efb63-67e3-4389-80e0-78fe59277994",
   "metadata": {
    "scrolled": true
   },
   "outputs": [
    {
     "name": "stdout",
     "output_type": "stream",
     "text": [
      "[]\n"
     ]
    }
   ],
   "source": [
    "print(dfs)"
   ]
  },
  {
   "cell_type": "code",
   "execution_count": null,
   "id": "2cad204d",
   "metadata": {},
   "outputs": [],
   "source": []
  }
 ],
 "metadata": {
  "kernelspec": {
   "display_name": "Python 3 (ipykernel)",
   "language": "python",
   "name": "python3"
  },
  "language_info": {
   "codemirror_mode": {
    "name": "ipython",
    "version": 3
   },
   "file_extension": ".py",
   "mimetype": "text/x-python",
   "name": "python",
   "nbconvert_exporter": "python",
   "pygments_lexer": "ipython3",
   "version": "3.12.3"
  }
 },
 "nbformat": 4,
 "nbformat_minor": 5
}
