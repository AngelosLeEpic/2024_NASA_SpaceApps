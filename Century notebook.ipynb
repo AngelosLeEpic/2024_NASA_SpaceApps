{
 "cells": [
  {
   "cell_type": "code",
   "execution_count": null,
   "id": "30a23762",
   "metadata": {},
   "outputs": [],
   "source": [
    "# Import libraries\n",
    "import numpy as np\n",
    "import pandas as pd\n",
    "from obspy import read\n",
    "from datetime import datetime, timedelta\n",
    "import matplotlib.pyplot as plt\n",
    "import os"
   ]
  },
  {
   "cell_type": "code",
   "execution_count": null,
   "id": "d05169ba",
   "metadata": {},
   "outputs": [],
   "source": [
    "# data path = where we store the data, plots and catalogue\n",
    "data_path = \"./data/mars/training\"\n",
    "raw_data_path = data_path + \"/data/S12_GradeA\"\n",
    "catalogue_path = data_path + \"/catalogs\""
   ]
  }
 ],
 "metadata": {
  "kernelspec": {
   "display_name": "Python 3 (ipykernel)",
   "language": "python",
   "name": "python3"
  },
  "language_info": {
   "codemirror_mode": {
    "name": "ipython",
    "version": 3
   },
   "file_extension": ".py",
   "mimetype": "text/x-python",
   "name": "python",
   "nbconvert_exporter": "python",
   "pygments_lexer": "ipython3",
   "version": "3.11.2"
  }
 },
 "nbformat": 4,
 "nbformat_minor": 5
}
